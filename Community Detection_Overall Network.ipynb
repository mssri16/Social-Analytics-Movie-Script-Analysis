{
 "cells": [
  {
   "cell_type": "code",
   "execution_count": 1,
   "id": "0a2d2e0a",
   "metadata": {},
   "outputs": [],
   "source": [
    "import networkx as nx\n",
    "import pandas as pd\n",
    "import numpy as np \n",
    "import matplotlib.pyplot as plt\n",
    "#import plotly.graph_objects as go\n",
    "import time\n",
    "from networkx.algorithms.community import greedy_modularity_communities\n",
    "from networkx.algorithms.community.louvain import louvain_communities\n",
    "from networkx.algorithms.community.label_propagation import label_propagation_communities\n",
    "import networkx.algorithms.community as nxcom\n"
   ]
  },
  {
   "cell_type": "code",
   "execution_count": 2,
   "id": "361aef00",
   "metadata": {},
   "outputs": [],
   "source": [
    "df = pd.read_excel(r'cleaned_data.xlsx',sheet_name = 'CD_Filtered')"
   ]
  },
  {
   "cell_type": "code",
   "execution_count": 3,
   "id": "46e7ccf6",
   "metadata": {},
   "outputs": [
    {
     "name": "stdout",
     "output_type": "stream",
     "text": [
      "<class 'pandas.core.frame.DataFrame'>\n",
      "RangeIndex: 461 entries, 0 to 460\n",
      "Data columns (total 4 columns):\n",
      " #   Column      Non-Null Count  Dtype \n",
      "---  ------      --------------  ----- \n",
      " 0   Unnamed: 0  461 non-null    int64 \n",
      " 1   Node_X      461 non-null    object\n",
      " 2   Node_Y      461 non-null    object\n",
      " 3   weight      461 non-null    int64 \n",
      "dtypes: int64(2), object(2)\n",
      "memory usage: 14.5+ KB\n"
     ]
    }
   ],
   "source": [
    "df.info()"
   ]
  },
  {
   "cell_type": "code",
   "execution_count": 4,
   "id": "a3544038",
   "metadata": {},
   "outputs": [],
   "source": [
    "g_full = nx.from_pandas_edgelist(df, source = 'Node_X', target = 'Node_Y', \n",
    "                            edge_attr = 'weight',create_using=nx.DiGraph())\n",
    "#undirected and directed comparison?\n"
   ]
  },
  {
   "cell_type": "code",
   "execution_count": 5,
   "id": "3f61bab5",
   "metadata": {},
   "outputs": [
    {
     "data": {
      "text/plain": [
       "131"
      ]
     },
     "execution_count": 5,
     "metadata": {},
     "output_type": "execute_result"
    }
   ],
   "source": [
    "len(g_full.nodes)"
   ]
  },
  {
   "cell_type": "code",
   "execution_count": 6,
   "id": "721f243f",
   "metadata": {},
   "outputs": [],
   "source": [
    "# main_3_chars = ['Harry Potter','Hermione Granger', 'Ron Weasley']\n",
    "\n",
    "# g_full= G.copy()\n",
    "# g_full.remove_node(main_3_chars)"
   ]
  },
  {
   "cell_type": "code",
   "execution_count": 7,
   "id": "219967f4",
   "metadata": {},
   "outputs": [
    {
     "data": {
      "text/plain": [
       "131"
      ]
     },
     "execution_count": 7,
     "metadata": {},
     "output_type": "execute_result"
    }
   ],
   "source": [
    "len(g_full.nodes)"
   ]
  },
  {
   "cell_type": "markdown",
   "id": "14c286db",
   "metadata": {},
   "source": [
    "## Undirected Graph"
   ]
  },
  {
   "cell_type": "code",
   "execution_count": 8,
   "id": "aabcbc93",
   "metadata": {},
   "outputs": [],
   "source": [
    "UG = g_full.to_undirected()\n",
    "for node in g_full:\n",
    "    for ngbr in nx.neighbors(g_full, node):\n",
    "        if node in nx.neighbors(g_full, ngbr):\n",
    "            UG.edges[node, ngbr]['weight'] = (\n",
    "                g_full.edges[node, ngbr]['weight'] + g_full.edges[ngbr, node]['weight']\n",
    "            )\n",
    "#UG.edges.data('weight')\n",
    "    "
   ]
  },
  {
   "cell_type": "markdown",
   "id": "9843da17",
   "metadata": {},
   "source": [
    "## Full Network Community Finding and Visualization"
   ]
  },
  {
   "cell_type": "markdown",
   "id": "4194813e",
   "metadata": {},
   "source": [
    "### Set Community to Nodes and Edges"
   ]
  },
  {
   "cell_type": "code",
   "execution_count": 9,
   "id": "296179a7",
   "metadata": {},
   "outputs": [],
   "source": [
    "def set_node_community(g, communities):\n",
    "    \"\"\"\n",
    "    :param g: graph\n",
    "    :param communities: community to which the node belong\n",
    "    Add community to node attributes\n",
    "    \"\"\"\n",
    "    for i, v_c in enumerate(communities):\n",
    "        for v in v_c:\n",
    "            # Add 1 to save 0 for external edges\n",
    "            g.nodes[v]['community'] = i + 1\n",
    "\n",
    "def set_edge_community(g):\n",
    "    \"\"\"\n",
    "    :param g: graph\n",
    "    Find internal edges and add their community to their attributes\n",
    "    \"\"\"\n",
    "    for v, w, in g.edges:\n",
    "        if g.nodes[v]['community'] == g.nodes[w]['community']:\n",
    "            # Internal edge, mark with community\n",
    "            g.edges[v, w]['community'] = g.nodes[v]['community']\n",
    "        else:\n",
    "            # External edge, mark as 0\n",
    "            g.edges[v, w]['community'] = 0"
   ]
  },
  {
   "cell_type": "code",
   "execution_count": 10,
   "id": "c46f3572",
   "metadata": {},
   "outputs": [],
   "source": [
    "def community_detection_girvan_newman(g):\n",
    "\n",
    "    result = nxcom.girvan_newman(g)\n",
    "    communities = next(result)\n",
    "    print(\"g_Newman:\")\n",
    "    print(communities)\n",
    "\n",
    "#     set_node_community(g,communities)\n",
    "#     set_edge_community(g)\n",
    "\n",
    "#     df_1 = (pd.DataFrame(list(g.degree), columns=['node','degree']).set_index('node'))\n",
    "#     df_1['community'] = pd.Series({node:data['community'] for node,data in g.nodes(data=True)})\n",
    "#     df_1['color'] = df_1.groupby('community')['degree'].transform(lambda c: c/c.max())\n",
    "#     df_1.loc[df_1['community']=='Officer', 'color'] *= -1\n",
    "\n",
    "#     plt.figure(figsize=(20, 14))\n",
    "#     layout = nx.fruchterman_reingold_layout(g)\n",
    "#     vmin = df_1['color'].min()\n",
    "#     vmax = df_1['color'].max()\n",
    "#     cmap = plt.cm.coolwarm\n",
    "\n",
    "#     nx.draw_networkx(g, pos=layout, with_labels=True, node_color=df_1['color'],cmap=cmap, vmin=vmin, vmax=vmax)\n",
    "#     sm = plt.cm.ScalarMappable(cmap=cmap, norm=plt.Normalize(vmin=vmin, vmax=vmax))\n",
    "#     sm.set_array([])\n",
    "#     cbar = plt.colorbar(sm)\n",
    "    #plt.savefig('cluster&degree.png')\n"
   ]
  },
  {
   "cell_type": "code",
   "execution_count": 11,
   "id": "8b9f1017",
   "metadata": {},
   "outputs": [],
   "source": [
    "def community_detection_modularity(g):\n",
    "\n",
    "    communities = greedy_modularity_communities(g)\n",
    "    print(\"g_modularity:\")\n",
    "    print(communities)\n",
    "\n",
    "#     set_node_community(g,communities)\n",
    "#     set_edge_community(g)\n",
    "\n",
    "#     df_1 = (pd.DataFrame(list(g.degree), columns=['node','degree']).set_index('node'))\n",
    "#     df_1['community'] = pd.Series({node:data['community'] for node,data in g.nodes(data=True)})\n",
    "#     df_1['color'] = df_1.groupby('community')['degree'].transform(lambda c: c/c.max())\n",
    "#     df_1.loc[df_1['community']=='Officer', 'color'] *= -1\n",
    "\n",
    "#     plt.figure(figsize=(20, 14))\n",
    "#     layout = nx.fruchterman_reingold_layout(g)\n",
    "#     vmin = df_1['color'].min()\n",
    "#     vmax = df_1['color'].max()\n",
    "#     cmap = plt.cm.coolwarm\n",
    "\n",
    "#    # nx.draw_networkx(g, pos=layout, with_labels=True, node_color=df_1['color'],cmap=cmap, vmin=vmin, vmax=vmax)\n",
    "#    # sm = plt.cm.ScalarMappable(cmap=cmap, norm=plt.Normalize(vmin=vmin, vmax=vmax))\n",
    "#    # sm.set_array([])\n",
    "#    # cbar = plt.colorbar(sm)\n",
    "#     #plt.savefig('cluster&degree.png')\n"
   ]
  },
  {
   "cell_type": "code",
   "execution_count": 12,
   "id": "ee262d97",
   "metadata": {},
   "outputs": [],
   "source": [
    "def community_detection_lovain(g):\n",
    "\n",
    "    communities = louvain_communities(g)\n",
    "    print(\"g_Louvain:\")\n",
    "    print(communities)\n",
    "\n",
    "#     set_node_community(g,communities)\n",
    "#     set_edge_community(g)\n",
    "\n",
    "#     df_1 = (pd.DataFrame(list(g.degree), columns=['node','degree']).set_index('node'))\n",
    "#     df_1['community'] = pd.Series({node:data['community'] for node,data in g.nodes(data=True)})\n",
    "#     df_1['color'] = df_1.groupby('community')['degree'].transform(lambda c: c/c.max())\n",
    "#     df_1.loc[df_1['community']=='Officer', 'color'] *= -1\n",
    "\n",
    "#     plt.figure(figsize=(20, 14))\n",
    "#     layout = nx.fruchterman_reingold_layout(g)\n",
    "#    # vmin = df_1['color'].min()\n",
    "#     #vmax = df_1['color'].max()\n",
    "#     cmap = plt.cm.coolwarm\n",
    "\n",
    "#     #nx.draw_networkx(g, pos=layout, with_labels=True, node_color=df_1['color'],cmap=cmap)#, vmin=vmin, vmax=vmax)\n",
    "# #     sm = plt.cm.ScalarMappable(cmap=cmap, norm=plt.Normalize(vmin=vmin, vmax=vmax))\n",
    "# #     sm.set_array([])\n",
    "# #     cbar = plt.colorbar(sm)\n",
    "#     #plt.savefig('cluster&degree.png')\n"
   ]
  },
  {
   "cell_type": "code",
   "execution_count": 13,
   "id": "bf46dd79",
   "metadata": {},
   "outputs": [
    {
     "name": "stdout",
     "output_type": "stream",
     "text": [
      "g_modularity:\n",
      "[frozenset({'Sirius Black', 'Parvati Patil', 'Peter Pettigrew', 'Neville Longbottom', 'Perkins', 'Amos Diggory', 'Arthur Weasley', 'Seamus Finnigan', 'Dean Thomas', 'Nymphadora Tonks', 'Alecto Carrow', 'Sybill Trelawney', 'Cormac McLaggen', 'Kingsley Shacklebolt', 'Goblin', 'Snatcher', 'Cormac Mclaggen', 'Remus Lupin', 'Ginny Weasley', 'Kreacher', 'Nigel Wolpert', 'Walburga Black', 'Rolanda Hooch', 'Molly Weasley', 'Gang thug'}), frozenset({'Filius Flitwick', 'Aragog', 'Everard', 'Quirinus Quirrell', 'Gilderoy Lockhart', 'Firenze', 'Katie Bell', 'Everyone', 'Argus Filch', 'Albus Dumbledore', 'Reubus Hagrid', 'Marcus Belby', 'Rubeus Hagrid', 'Grawp', 'Bane', 'Pomona Sprout', 'Horace Slughorn', 'Dilys Derwent', 'Phineas', 'Olympe Maxime', 'Serpent of Slitherin', 'Tom Riddle', 'Mrs. Cole'}), frozenset({'Arabella Figg', 'Rosmerta', 'Lee Jordan', 'Magorian', 'Cornelius Fudge', 'Tom', 'Headwig', 'Susan Bones', 'Oliver Wood', 'Minerva McGonagall', 'Fang', 'Alastor Moody', 'Mary Cattermole', 'Gryffindors', 'Fred Weasley', 'Zacharias Smith', 'Dolores Umbridge', 'Marcus Flint', 'George Weasley', 'Justin Finch-Fletchley'}), frozenset({'Dobby', 'Sorting Hat', 'Merpeople', 'Bogrod', 'Ghost', 'Scabior', 'Trolley witch', 'Bellatrix Lestrange', 'Ghosts', 'Fenrir Greyback', 'Gregory Goyle', 'Poppy Pomfrey', 'Lucius Malfoy', 'Griphook', 'Pansy Parkinson', 'Mundungus Fletcher', 'Draco Malfoy', 'Blaise Zabini', 'Vincent Crabbe'}), frozenset({'James Potter', 'Percy Weasley', 'Igor Karkaroff', 'Lily Potter', 'Charity Burbage', 'Severus Snape', 'The Fat Lady', 'Nearly Headless Nick', 'Narcissa Malfoy', 'Minerva Mcgonagall', 'Errol', 'Leanne'}), frozenset({'Barty Crouch Sr.', 'Voldemort', 'Gellert Grindelwald', 'Rita Skeeter', 'Mykew Gregorovitch', 'Nagini', 'Cedric Diggory', 'Barty Crouch Jr.', 'Viktor Krum', 'Corban Yaxley', 'Pius Thicknesse'}), frozenset({'Marge Dursley', 'Mr. and Mrs. Mason', 'Vernon Dursley', 'Howler', 'Petunia Dursley', 'Snake', 'Dudley Dursley'}), frozenset({'Eldred Worple', 'Waitress', 'Cho Chang', 'Fleur Delacour', 'Luna Lovegood', 'Xenophilius Lovegood', 'Bill Weasley'}), frozenset({'Doll', 'Stanley Shunpike', 'Station Guard'}), frozenset({'Elphias Doge', 'Muriel'}), frozenset({'Mr. Granger', 'Mrs. Granger'})]\n",
      "g_Newman:\n",
      "({'Sirius Black', 'Dobby', 'Charity Burbage', 'Lee Jordan', 'Bellatrix Lestrange', 'Ghosts', 'Sybill Trelawney', 'Viktor Krum', 'Goblin', 'Cormac Mclaggen', 'Bane', 'Oliver Wood', 'Remus Lupin', 'Howler', 'Mundungus Fletcher', 'George Weasley', 'Albus Dumbledore', 'Argus Filch', 'Nymphadora Tonks', 'Minerva Mcgonagall', 'Luna Lovegood', 'Marcus Belby', 'Snatcher', 'Gellert Grindelwald', 'Minerva McGonagall', 'Fang', 'Nagini', 'Walburga Black', 'Molly Weasley', 'Corban Yaxley', 'Justin Finch-Fletchley', 'Sorting Hat', 'Rita Skeeter', 'Ghost', 'Barty Crouch Jr.', 'Cormac McLaggen', 'Igor Karkaroff', 'Grawp', 'Mykew Gregorovitch', 'Pansy Parkinson', 'Mary Cattermole', 'Dolores Umbridge', 'Phineas', 'Nigel Wolpert', 'Marcus Flint', 'Tom Riddle', 'Barty Crouch Sr.', 'Filius Flitwick', 'Parvati Patil', 'Peter Pettigrew', 'Bogrod', 'Scabior', 'Tom', 'Perkins', 'Headwig', 'Alecto Carrow', 'Reubus Hagrid', 'Bill Weasley', 'Susan Bones', 'Lily Potter', 'Dilys Derwent', 'Kingsley Shacklebolt', 'Petunia Dursley', 'Leanne', 'Rosmerta', 'Dudley Dursley', 'Everyone', 'Poppy Pomfrey', 'Gregory Goyle', 'Lucius Malfoy', 'Eldred Worple', 'Zacharias Smith', 'Vincent Crabbe', 'Serpent of Slitherin', 'Quirinus Quirrell', 'Firenze', 'Neville Longbottom', 'Katie Bell', 'Arthur Weasley', 'Dean Thomas', 'Rubeus Hagrid', 'Griphook', 'Alastor Moody', 'Horace Slughorn', 'The Fat Lady', 'Mr. and Mrs. Mason', 'Kreacher', 'Rolanda Hooch', 'Percy Weasley', 'James Potter', 'Everard', 'Nearly Headless Nick', 'Narcissa Malfoy', 'Seamus Finnigan', 'Pius Thicknesse', 'Marge Dursley', 'Voldemort', 'Vernon Dursley', 'Fleur Delacour', 'Gryffindors', 'Fred Weasley', 'Draco Malfoy', 'Cedric Diggory', 'Xenophilius Lovegood', 'Gang thug', 'Mrs. Cole', 'Arabella Figg', 'Aragog', 'Merpeople', 'Gilderoy Lockhart', 'Magorian', 'Cornelius Fudge', 'Trolley witch', 'Amos Diggory', 'Fenrir Greyback', 'Pomona Sprout', 'Snake', 'Ginny Weasley', 'Olympe Maxime', 'Blaise Zabini', 'Errol', 'Severus Snape'}, {'Waitress', 'Cho Chang'}, {'Doll', 'Stanley Shunpike', 'Station Guard'}, {'Elphias Doge', 'Muriel'}, {'Mr. Granger', 'Mrs. Granger'})\n",
      "g_Louvain:\n",
      "[{'Arabella Figg', 'Everard', 'Sorting Hat', 'Rosmerta', 'Charity Burbage', 'Ghost', 'Gilderoy Lockhart', 'Cornelius Fudge', 'Severus Snape', 'Albus Dumbledore', 'Argus Filch', 'Minerva Mcgonagall', 'Reubus Hagrid', 'Ghosts', 'Poppy Pomfrey', 'Fenrir Greyback', 'Gregory Goyle', 'Susan Bones', 'Minerva McGonagall', 'Fang', 'Alastor Moody', 'Pansy Parkinson', 'Dilys Derwent', 'Vincent Crabbe', 'Phineas', 'Draco Malfoy', 'Blaise Zabini', 'Serpent of Slitherin', 'Leanne', 'Mrs. Cole'}, {'Barty Crouch Sr.', 'Igor Karkaroff', 'Cedric Diggory', 'Rita Skeeter', 'Viktor Krum'}, {'Aragog', 'Rubeus Hagrid', 'Bane', 'Grawp', 'Horace Slughorn', 'Firenze', 'Tom', 'Katie Bell', 'Olympe Maxime', 'Headwig', 'Tom Riddle', 'Marcus Belby'}, {'James Potter', 'Marge Dursley', 'Vernon Dursley', 'Lily Potter', 'Howler', 'Dudley Dursley', 'Mr. and Mrs. Mason', 'Petunia Dursley'}, {'Oliver Wood', 'Mary Cattermole', 'Magorian', 'Fred Weasley', 'Zacharias Smith', 'Dolores Umbridge', 'Marcus Flint', 'Sybill Trelawney', 'George Weasley', 'Justin Finch-Fletchley'}, {'Sirius Black', 'Cho Chang', 'Everyone', 'Seamus Finnigan', 'Kingsley Shacklebolt', 'Cormac McLaggen', 'Goblin', 'Cormac Mclaggen', 'Remus Lupin', 'Fleur Delacour', 'Eldred Worple', 'Nigel Wolpert', 'Xenophilius Lovegood', 'Gang thug', 'Filius Flitwick', 'Parvati Patil', 'Neville Longbottom', 'Arthur Weasley', 'Amos Diggory', 'Nymphadora Tonks', 'Dean Thomas', 'Luna Lovegood', 'Perkins', 'Alecto Carrow', 'Bill Weasley', 'Snatcher', 'Pomona Sprout', 'Ginny Weasley', 'Waitress', 'Kreacher', 'Walburga Black', 'Rolanda Hooch', 'Molly Weasley'}, {'Station Guard', 'Stanley Shunpike', 'Doll'}, {'Elphias Doge', 'Muriel'}, {'Percy Weasley', 'The Fat Lady', 'Nearly Headless Nick', 'Errol', 'Gryffindors', 'Lee Jordan'}, {'Mr. Granger', 'Mrs. Granger'}, {'Dobby', 'Peter Pettigrew', 'Merpeople', 'Bogrod', 'Quirinus Quirrell', 'Scabior', 'Trolley witch', 'Narcissa Malfoy', 'Bellatrix Lestrange', 'Barty Crouch Jr.', 'Pius Thicknesse', 'Voldemort', 'Gellert Grindelwald', 'Lucius Malfoy', 'Griphook', 'Mykew Gregorovitch', 'Snake', 'Nagini', 'Mundungus Fletcher', 'Corban Yaxley'}]\n"
     ]
    }
   ],
   "source": [
    "## Undirected Graph\n",
    "community_detection_modularity(UG)\n",
    "community_detection_girvan_newman(UG)\n",
    "community_detection_lovain(UG)"
   ]
  },
  {
   "cell_type": "code",
   "execution_count": 14,
   "id": "891953bd",
   "metadata": {},
   "outputs": [
    {
     "name": "stdout",
     "output_type": "stream",
     "text": [
      "g_modularity:\n",
      "[frozenset({'Percy Weasley', 'Barty Crouch Sr.', 'Arabella Figg', 'Everard', 'Rosmerta', 'Rita Skeeter', 'Cornelius Fudge', 'Nearly Headless Nick', 'Albus Dumbledore', 'Minerva Mcgonagall', 'Reubus Hagrid', 'Barty Crouch Jr.', 'Poppy Pomfrey', 'Viktor Krum', 'Igor Karkaroff', 'Susan Bones', 'Minerva McGonagall', 'Fang', 'Alastor Moody', 'Dilys Derwent', 'The Fat Lady', 'Phineas', 'Cedric Diggory', 'Errol', 'Leanne', 'Mrs. Cole'}), frozenset({'Filius Flitwick', 'Cho Chang', 'Neville Longbottom', 'Katie Bell', 'Everyone', 'Seamus Finnigan', 'Dean Thomas', 'Luna Lovegood', 'Cormac McLaggen', 'Bill Weasley', 'Marcus Belby', 'Snatcher', 'Cormac Mclaggen', 'Fleur Delacour', 'Pomona Sprout', 'Eldred Worple', 'Horace Slughorn', 'Waitress', 'Nigel Wolpert', 'Blaise Zabini', 'Rolanda Hooch', 'Kingsley Shacklebolt', 'Xenophilius Lovegood', 'Tom Riddle'}), frozenset({'Lee Jordan', 'Perkins', 'Arthur Weasley', 'Nymphadora Tonks', 'Amos Diggory', 'Alecto Carrow', 'Goblin', 'Oliver Wood', 'Gryffindors', 'Fred Weasley', 'Zacharias Smith', 'Ginny Weasley', 'Marcus Flint', 'Molly Weasley', 'Gang thug', 'George Weasley', 'Corban Yaxley', 'Justin Finch-Fletchley'}), frozenset({'Aragog', 'Gilderoy Lockhart', 'Firenze', 'Dudley Dursley', 'Tom', 'Headwig', 'Marge Dursley', 'Rubeus Hagrid', 'Grawp', 'Howler', 'Bane', 'Vernon Dursley', 'Snake', 'Mr. and Mrs. Mason', 'Olympe Maxime', 'Serpent of Slitherin', 'Petunia Dursley'}), frozenset({'James Potter', 'Sirius Black', 'Parvati Patil', 'Peter Pettigrew', 'Quirinus Quirrell', 'Charity Burbage', 'Narcissa Malfoy', 'Pius Thicknesse', 'Voldemort', 'Gellert Grindelwald', 'Remus Lupin', 'Lily Potter', 'Mykew Gregorovitch', 'Nagini', 'Kreacher', 'Walburga Black', 'Severus Snape'}), frozenset({'Dobby', 'Merpeople', 'Bogrod', 'Griphook', 'Lucius Malfoy', 'Ghost', 'Scabior', 'Trolley witch', 'Mundungus Fletcher', 'Bellatrix Lestrange', 'Ghosts', 'Fenrir Greyback'}), frozenset({'Sorting Hat', 'Pansy Parkinson', 'Mary Cattermole', 'Magorian', 'Dolores Umbridge', 'Argus Filch', 'Draco Malfoy', 'Sybill Trelawney', 'Gregory Goyle', 'Vincent Crabbe'}), frozenset({'Doll', 'Stanley Shunpike', 'Station Guard'}), frozenset({'Elphias Doge', 'Muriel'}), frozenset({'Mr. Granger', 'Mrs. Granger'})]\n",
      "g_Newman:\n",
      "({'Sirius Black', 'Dobby', 'Charity Burbage', 'Lee Jordan', 'Bellatrix Lestrange', 'Ghosts', 'Sybill Trelawney', 'Viktor Krum', 'Goblin', 'Cormac Mclaggen', 'Bane', 'Oliver Wood', 'Remus Lupin', 'Howler', 'Mundungus Fletcher', 'George Weasley', 'Albus Dumbledore', 'Argus Filch', 'Nymphadora Tonks', 'Minerva Mcgonagall', 'Luna Lovegood', 'Marcus Belby', 'Snatcher', 'Gellert Grindelwald', 'Minerva McGonagall', 'Fang', 'Nagini', 'Walburga Black', 'Molly Weasley', 'Corban Yaxley', 'Justin Finch-Fletchley', 'Sorting Hat', 'Rita Skeeter', 'Ghost', 'Barty Crouch Jr.', 'Cormac McLaggen', 'Igor Karkaroff', 'Grawp', 'Mykew Gregorovitch', 'Pansy Parkinson', 'Mary Cattermole', 'Dolores Umbridge', 'Phineas', 'Nigel Wolpert', 'Marcus Flint', 'Tom Riddle', 'Barty Crouch Sr.', 'Filius Flitwick', 'Parvati Patil', 'Peter Pettigrew', 'Bogrod', 'Scabior', 'Tom', 'Perkins', 'Headwig', 'Alecto Carrow', 'Reubus Hagrid', 'Bill Weasley', 'Susan Bones', 'Lily Potter', 'Dilys Derwent', 'Kingsley Shacklebolt', 'Petunia Dursley', 'Leanne', 'Rosmerta', 'Dudley Dursley', 'Everyone', 'Poppy Pomfrey', 'Gregory Goyle', 'Lucius Malfoy', 'Eldred Worple', 'Zacharias Smith', 'Vincent Crabbe', 'Serpent of Slitherin', 'Quirinus Quirrell', 'Firenze', 'Neville Longbottom', 'Katie Bell', 'Arthur Weasley', 'Dean Thomas', 'Rubeus Hagrid', 'Griphook', 'Alastor Moody', 'Horace Slughorn', 'The Fat Lady', 'Mr. and Mrs. Mason', 'Kreacher', 'Rolanda Hooch', 'Percy Weasley', 'James Potter', 'Everard', 'Nearly Headless Nick', 'Narcissa Malfoy', 'Seamus Finnigan', 'Pius Thicknesse', 'Marge Dursley', 'Voldemort', 'Vernon Dursley', 'Fleur Delacour', 'Gryffindors', 'Fred Weasley', 'Draco Malfoy', 'Cedric Diggory', 'Xenophilius Lovegood', 'Gang thug', 'Mrs. Cole', 'Arabella Figg', 'Aragog', 'Merpeople', 'Gilderoy Lockhart', 'Magorian', 'Cornelius Fudge', 'Trolley witch', 'Amos Diggory', 'Fenrir Greyback', 'Pomona Sprout', 'Snake', 'Ginny Weasley', 'Olympe Maxime', 'Blaise Zabini', 'Errol', 'Severus Snape'}, {'Waitress', 'Cho Chang'}, {'Doll', 'Stanley Shunpike', 'Station Guard'}, {'Elphias Doge', 'Muriel'}, {'Mr. Granger', 'Mrs. Granger'})\n",
      "g_Louvain:\n",
      "[{'Dobby', 'Merpeople', 'Bogrod', 'Ghost', 'Scabior', 'Trolley witch', 'Narcissa Malfoy', 'Bellatrix Lestrange', 'Ghosts', 'Fenrir Greyback', 'Gregory Goyle', 'Griphook', 'Pansy Parkinson', 'Mundungus Fletcher', 'Draco Malfoy', 'Blaise Zabini', 'Vincent Crabbe'}, {'Barty Crouch Sr.', 'Igor Karkaroff', 'Cedric Diggory'}, {'Everard', 'Rosmerta', 'Charity Burbage', 'Gilderoy Lockhart', 'Cornelius Fudge', 'Albus Dumbledore', 'Argus Filch', 'Minerva Mcgonagall', 'Leanne', 'Reubus Hagrid', 'Poppy Pomfrey', 'Minerva McGonagall', 'Fang', 'Alastor Moody', 'Dilys Derwent', 'Phineas', 'Serpent of Slitherin', 'Severus Snape', 'Mrs. Cole'}, {'Marcus Flint', 'Oliver Wood'}, {'Filius Flitwick', 'Snatcher', 'Cormac Mclaggen', 'Neville Longbottom', 'Nigel Wolpert', 'Seamus Finnigan', 'Dean Thomas', 'Rolanda Hooch', 'Cormac McLaggen'}, {'Marge Dursley', 'Mr. and Mrs. Mason', 'Vernon Dursley', 'Howler', 'Petunia Dursley', 'Dudley Dursley'}, {'Dolores Umbridge', 'Sybill Trelawney', 'Mary Cattermole', 'Magorian'}, {'Aragog', 'Rubeus Hagrid', 'Bane', 'Grawp', 'Horace Slughorn', 'Firenze', 'Tom', 'Katie Bell', 'Olympe Maxime', 'Headwig', 'Tom Riddle', 'Marcus Belby'}, {'Sirius Black', 'Parvati Patil', 'Kreacher', 'Remus Lupin', 'Nymphadora Tonks', 'Walburga Black', 'Kingsley Shacklebolt'}, {'Peter Pettigrew', 'Voldemort', 'Gellert Grindelwald', 'Lucius Malfoy', 'Quirinus Quirrell', 'Mykew Gregorovitch', 'Snake', 'Nagini', 'Barty Crouch Jr.', 'Corban Yaxley', 'Pius Thicknesse'}, {'Fleur Delacour', 'Eldred Worple', 'Ginny Weasley', 'Molly Weasley', 'Alecto Carrow', 'Arthur Weasley', 'Perkins', 'Amos Diggory', 'Xenophilius Lovegood', 'Luna Lovegood', 'Gang thug', 'Bill Weasley', 'Goblin'}, {'Arabella Figg', 'Sorting Hat', 'Susan Bones'}, {'Justin Finch-Fletchley', 'George Weasley', 'Zacharias Smith', 'Fred Weasley'}, {'Waitress', 'Cho Chang'}, {'Doll', 'Stanley Shunpike', 'Station Guard'}, {'Elphias Doge', 'Muriel'}, {'Percy Weasley', 'The Fat Lady', 'Nearly Headless Nick', 'Errol', 'Gryffindors', 'Lee Jordan'}, {'James Potter', 'Lily Potter'}, {'Mr. Granger', 'Mrs. Granger'}, {'Pomona Sprout', 'Everyone'}, {'Rita Skeeter', 'Viktor Krum'}]\n"
     ]
    }
   ],
   "source": [
    "## Directed Graph\n",
    "\n",
    "community_detection_modularity(g_full)\n",
    "community_detection_girvan_newman(g_full)\n",
    "community_detection_lovain(g_full)"
   ]
  },
  {
   "cell_type": "markdown",
   "id": "f3c75ea2",
   "metadata": {},
   "source": [
    "## To find the importance to reduce the noise"
   ]
  },
  {
   "cell_type": "code",
   "execution_count": 15,
   "id": "e285e36a",
   "metadata": {
    "scrolled": true
   },
   "outputs": [],
   "source": [
    "# #deg_centrality\n",
    "# deg_centrality = nx.degree_centrality(g_full)\n",
    "# print('character importance of full entity graphs',dict(sorted(deg_centrality.items(), key=lambda kv: (kv[1]), reverse=True)[:10]))\n",
    "# entities_importance = list(dict(sorted(deg_centrality.items(),key=lambda kv: (kv[1]),reverse=True)).keys())\n",
    "# print(entities_importance[:20])\n",
    "\n",
    "# subgraph_entities = entities_importance[:50]\n",
    "# g_deg = g_full.subgraph(subgraph_entities)\n",
    "\n",
    "# #betweenness centrality\n",
    "# deg_centrality_betweenness = nx.betweenness_centrality(g_full, weight='weight')\n",
    "# print('character importance of full entity graphs',dict(sorted(deg_centrality_betweenness.items(), key=lambda kv: (kv[1]), reverse=True)[:10]))\n",
    "# entities_importance_betweenness = list(dict(sorted(deg_centrality_betweenness.items(),key=lambda kv: (kv[1]),reverse=True)).keys())\n",
    "# print(entities_importance_betweenness[:20])\n",
    "\n",
    "# subgraph_entities = entities_importance_betweenness[:50]\n",
    "# g_deg_between = g_full.subgraph(subgraph_entities)\n",
    "\n",
    "# #pagerank data\n",
    "# deg_centrality_pagerank = nx.pagerank(g_full, weight='weight')\n",
    "# print('character importance of full entity graphs',dict(sorted(deg_centrality_pagerank.items(), key=lambda kv: (kv[1]), reverse=True)[:10]))\n",
    "# entities_importance_pagerank = list(dict(sorted(deg_centrality_pagerank.items(),key=lambda kv: (kv[1]),reverse=True)).keys())\n",
    "# print(entities_importance_pagerank[:20])\n",
    "\n",
    "# subgraph_entities = entities_importance_pagerank[:50]\n",
    "# g_pagerank = g_full.subgraph(subgraph_entities)\n",
    "\n",
    "# #based on k core score\n",
    "# k_core = list(nx.k_core(g_full))\n",
    "# g_k_core = g_full.subgraph(k_core)\n",
    "\n",
    "\n",
    "# # Based on interactions > more than 5\n",
    "# sub_nodes = []\n",
    "# for el in g_full.degree():\n",
    "#     if el[1] > 5:\n",
    "#         sub_nodes.append(el[0])\n",
    "# g_interact = g_full.subgraph(sub_nodes)\n",
    "\n"
   ]
  },
  {
   "cell_type": "code",
   "execution_count": 16,
   "id": "7f799dd6",
   "metadata": {},
   "outputs": [],
   "source": [
    "# #degree centrality \n",
    "# community_detection_modularity(g_deg)\n",
    "# #community_detection_girvan_newman(g_deg)\n",
    "# community_detection_lovain(g_deg)"
   ]
  },
  {
   "cell_type": "code",
   "execution_count": 17,
   "id": "c1aee3b2",
   "metadata": {},
   "outputs": [],
   "source": [
    "# #betweenness centrality \n",
    "\n",
    "# community_detection_modularity(g_deg_between)\n",
    "# #community_detection_girvan_newman(g_deg_between)\n",
    "# community_detection_lovain(g_deg_between)"
   ]
  },
  {
   "cell_type": "code",
   "execution_count": 18,
   "id": "7836ca2b",
   "metadata": {},
   "outputs": [],
   "source": [
    "# #pagerank centrality \n",
    "# community_detection_modularity(g_pagerank)\n",
    "# #community_detection_girvan_newman(g_pagerank)\n",
    "# community_detection_lovain(g_pagerank)"
   ]
  },
  {
   "cell_type": "code",
   "execution_count": 19,
   "id": "4806e383",
   "metadata": {},
   "outputs": [],
   "source": [
    "# #k core graphs\n",
    "# community_detection_modularity(g_k_core)\n",
    "# #community_detection_girvan_newman(g_k_core)\n",
    "# community_detection_lovain(g_k_core)"
   ]
  },
  {
   "cell_type": "code",
   "execution_count": 20,
   "id": "7d421d5f",
   "metadata": {},
   "outputs": [],
   "source": [
    "# #interactions > 5 graph\n",
    "\n",
    "# community_detection_modularity(g_interact)\n",
    "# #community_detection_girvan_newman(g_interact)\n",
    "# community_detection_lovain(g_interact)"
   ]
  }
 ],
 "metadata": {
  "kernelspec": {
   "display_name": "Python 3",
   "language": "python",
   "name": "python3"
  },
  "language_info": {
   "codemirror_mode": {
    "name": "ipython",
    "version": 3
   },
   "file_extension": ".py",
   "mimetype": "text/x-python",
   "name": "python",
   "nbconvert_exporter": "python",
   "pygments_lexer": "ipython3",
   "version": "3.8.8"
  }
 },
 "nbformat": 4,
 "nbformat_minor": 5
}
